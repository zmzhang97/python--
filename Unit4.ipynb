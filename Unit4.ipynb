{
 "cells": [
  {
   "cell_type": "markdown",
   "metadata": {},
   "source": [
    "# 4 程序的控制结构\n",
    "## 4.1 程序的分支结构    \n",
    "## 实例5：身体质量指数BMI   \n",
    "## 4.3 程序的循环结构    \n",
    "## 4.4 模块3：random库的使用   \n",
    "## 4.5 实例6：圆周率的计算   \n",
    "\n",
    "\n",
    "\n",
    "## 4.1 程序的分支结构   \n",
    "### 4.1.1 单分支结构   \n",
    "> 根据判断条件结果而选择不同向前路径的运行方式   \n",
    "\n",
    "``\n",
    "if <条件>:\n",
    "    <语句块>\n",
    "``   \n",
    "### 4.1.2 二分支结构     \n",
    "``\n",
    "if <条件>：\n",
    "   <语句块1>\n",
    "else:\n",
    "    <语句块2>\n",
    "``    \n",
    "\n",
    "紧凑形式：\n",
    "`<表达式1> if <条件> else <表达式2>`    \n",
    "E.g：\n",
    "``\n",
    "guess = eval(input())\n",
    "print(\"猜{}了\".format(\"对\" if guess==99 else \"错\"))\n",
    "``    \n",
    "### 4.1.3 多分支结构   \n",
    "``\n",
    "if  <条件>:\n",
    "    <语句块1>\n",
    "elif:\n",
    "    <语句块2>\n",
    "    ...\n",
    "else:\n",
    "    <语句块3>\n",
    "``   \n",
    "E.g：\n",
    "``\n",
    "score = eval(input())\n",
    "if 70 > score >= 60:\n",
    "    grade = \"D\"\n",
    "elif 80 > score >= 70:\n",
    "    grade = \"C\"\n",
    "elif 90 > score >= 80:\n",
    "    grade = \"B\"\n",
    "elif 100 >= score >= 90:\n",
    "    grade = \"A\"\n",
    "print(\"输入成绩属于级别{}\".format(grade))\n",
    "``    \n",
    "### 4.1.4 条件判断及组合   \n",
    "1. 操作符：<,>,=...,and,or,not    \n",
    "2. 异常处理的基本使用：   \n",
    "1) \n",
    "``\n",
    "try :\n",
    "    <语句块1>\n",
    "except :\n",
    "    <语句块2>\n",
    "``   \n",
    "2) \n",
    "``\n",
    "try :\n",
    "    <语句块1>\n",
    "except <异常类型>：\n",
    "    <语句块2>\n",
    "``    \n",
    "3. 异常处理的高级使用   \n",
    "``\n",
    "try :\n",
    "    <语句块1>\n",
    "except :\n",
    "    <语句块2>\n",
    "else :        # 对应语句块3在不发生异常时执行\n",
    "    <语句块3>\n",
    "finally :     # 对应语句块4一定执行\n",
    "    <语句块4>\n",
    "``   \n"
   ]
  },
  {
   "cell_type": "code",
   "execution_count": 8,
   "metadata": {},
   "outputs": [
    {
     "name": "stdout",
     "output_type": "stream",
     "text": [
      "80\n",
      "输入成绩属于级别B\n"
     ]
    }
   ],
   "source": [
    "# 4.1.3实例\n",
    "score = eval(input())\n",
    "if 70 > score >= 60:\n",
    "    grade = \"D\"\n",
    "elif 80 > score >= 70:\n",
    "    grade = \"C\"\n",
    "elif 90 > score >= 80:\n",
    "    grade = \"B\"\n",
    "elif 100 >= score >= 90:\n",
    "    grade = \"A\"\n",
    "print(\"输入成绩属于级别{}\".format(grade))"
   ]
  },
  {
   "cell_type": "markdown",
   "metadata": {},
   "source": [
    "## 实例5：身体质量指数BMI问题分析   \n",
    "1. 问题需求：1）输入：给定体重和身高值；2）输出：BMI指标分类信息（国际和国内）；   \n",
    "2. 思路方法：难点在于同时输出国际和国内对应的分类；思路1：分别计算并给出国际和国内BMI分类；思路2：混合计算并给出国际和国内BMI分类"
   ]
  },
  {
   "cell_type": "code",
   "execution_count": 17,
   "metadata": {},
   "outputs": [
    {
     "name": "stdout",
     "output_type": "stream",
     "text": [
      "请输入身高（米）和体重\\（公斤）[逗号隔开]：1.7,100\n",
      "BMI数值为：34.60\n",
      "BMI指标为：国际'肥胖'，国内'肥胖'\n"
     ]
    }
   ],
   "source": [
    "# CalBMIv1.py\n",
    "height,weight = eval(input(\"请输入身高（米）和体重\\（公斤）[逗号隔开]：\"))\n",
    "bmi = weight/pow(height,2)\n",
    "print(\"BMI数值为：{:.2f}\".format(bmi))\n",
    "who,nat = \"\",\"\"\n",
    "if bmi < 18.5:\n",
    "    who,nat = \"偏瘦\",\"偏瘦\"\n",
    "elif 18.5 <= bmi < 24:\n",
    "    who,nat = \"正常\",\"正常\"\n",
    "elif 24 <= bmi <25:\n",
    "    who,nat = \"正常\",\"偏胖\"\n",
    "elif 25 <= bmi <28:\n",
    "    who,nat = \"偏胖\",\"偏胖\"\n",
    "elif 28 <= bmi <30:\n",
    "    who,nat = \"偏胖\",\"肥胖\"\n",
    "else:\n",
    "    who,nat = \"肥胖\",\"肥胖\"\n",
    "print(\"BMI指标为：国际'{0}'，国内'{1}'\".format(who,nat))"
   ]
  },
  {
   "cell_type": "markdown",
   "metadata": {},
   "source": [
    "## 4.3程序的循环结构   \n",
    "> 遍历循环，无线循环，循环控制保留字，循环的高级用法，  \n",
    "\n",
    "### 4.3.1 遍历循环   \n",
    "``\n",
    "for <循环变量> in <遍历结构>:\n",
    "    <语句块>\n",
    "``    \n",
    "1) 计数循环（N次）：   \n",
    "``\n",
    "for i in range(N):\n",
    "    <语句块>\n",
    "``    \n",
    "2) 计数循环（特定次）:    \n",
    "``\n",
    "for i in range(M,N,K)   # 从M开始到N以K为间隔排序\n",
    "    <语句块>\n",
    "``    \n",
    "3) 字符串遍历循环：     \n",
    "``\n",
    "for c in s:    #s为字符串，遍历字符串每个字符，产生循环    \n",
    "    <语句块>\n",
    "``    \n",
    "4) 列表遍历循环：    \n",
    "``\n",
    "for item in ls:    #ls是一个列表，遍历其每个元素，产生循环    \n",
    "    <语句块>\n",
    "``    \n",
    "5) 文件遍历循环：     \n",
    "``\n",
    "for line in fi:     #fi是一个文件标识符，遍历其每行，产生循环\n",
    "    <语句块>\n",
    "``    \n",
    "\n",
    "### 4.3.2 无线循环    \n",
    "1) 由条件控制的循环运行方式   \n",
    "``\n",
    "while <条件>:\n",
    "    <语句块>\n",
    "``    \n",
    "### 4.3.3 循环控制保留字\n",
    "* `break`：跳出并结束当前整个循环，执行循环后的语句；\n",
    "* `continue`：结束当次循环，继续执行后续次数循环；   \n",
    "\n",
    "### 4.3.4 循环的高级用法   \n",
    "* 循环与else：    \n",
    "1) for\n",
    "``\n",
    "for <循环变量> in <遍历结构>:\n",
    "    <语句块1>\n",
    "else:\n",
    "    <语句块2>\n",
    "``  \n",
    "2) while    \n",
    "``\n",
    "while <条件>:\n",
    "      <语句块1>\n",
    "else:\n",
    "      <语句块2>\n",
    "``     \n"
   ]
  },
  {
   "cell_type": "markdown",
   "metadata": {},
   "source": [
    "# 4.4 模块3：random库概述    \n",
    "> 使用随机数的Python标准库；      \n",
    "> 伪随机库：采用梅森旋转算法生成的伪随机序列中元素；    \n",
    "> 主要用于生成随机数；  \n",
    "> 使用：import random\n",
    "\n",
    "随机函数：1)常用：seed(),random(); 2)扩展：randint(), getrandbits(),uniform(),randrange(),choice(),shuffle();    \n",
    "常用随机函数：     \n",
    "1. `seed(a=None)`：初始化给定的随机数种子，默认为当前系统时间；`random.seed(10)`   #产生种子10对应的序列\n",
    "2. `random()`：生成一个[0.0, 1.0)之间的随机小数； `random.random()`：0.5714025946899135 ；\n",
    "\n",
    "扩展随机函数：     \n",
    "1. `randint(a,b)`：生成一个[a,b]之间的整数；  `random.randint(10, 100)`：64；     \n",
    "2. `randrange(m,n[,k])`：生成一个[m, n)之间以k为步长的随机整数；`random.randrange(10, 100, 10)`：80；  \n",
    "3. `getrandbits(k)`：生成一个k比特的随机整数；`random.getrandbits(16)`：37885；   \n",
    "4. `uniform(a,b)`：生成一个[a, b]之间的随机小数；`random.uniform(10,100)`：13.096372817637267；   \n",
    "5. `choice(seq)`：从序列seq中随机选择一个元素；`random.choice([1,2,3,4,5,6,7,8,9])`：8；      \n",
    "6. `shuffle(seq)`：将序列seq中元素随机排列，返回打乱后的序列；`s=[1,2,3,4,5,6,7,8,9];random.shuffle(s);print(s)`：[3，5，8，9，6，1，2，7，4]；     \n",
    "\n"
   ]
  },
  {
   "cell_type": "markdown",
   "metadata": {},
   "source": [
    "## 4.5 实例6： 圆周率的计算     \n",
    "> 利用蒙特卡罗方法计算（撒点计算）\n",
    "\n",
    "圆周率近似公式：$ \\pi = \\sum\\limits^\\infty_{k=0}[\\frac{1}{16^k}(\\frac{4}{8k+1} - \\frac{2}{8k+5} - \\frac{1}{8k+5} - \\frac{1}{8k+6})] $   \n",
    "\n"
   ]
  },
  {
   "cell_type": "code",
   "execution_count": 18,
   "metadata": {},
   "outputs": [
    {
     "name": "stdout",
     "output_type": "stream",
     "text": [
      "圆周率值是：3.141592653589793\n"
     ]
    }
   ],
   "source": [
    "# CalPiV1.py\n",
    "pi = 0\n",
    "N = 100\n",
    "for k in range(N):\n",
    "    pi += 1/pow(16, k) * ( \\\n",
    "        4/(8*k+1) - 2/(8*k+4) - \\\n",
    "        1/(8*k+5) - 1/(8*k+6))\n",
    "print(\"圆周率值是：{}\".format(pi))"
   ]
  },
  {
   "cell_type": "code",
   "execution_count": 21,
   "metadata": {},
   "outputs": [
    {
     "name": "stdout",
     "output_type": "stream",
     "text": [
      "圆周率是：3.143136\n",
      "运行时间是：1.84778s\n"
     ]
    }
   ],
   "source": [
    "# CalPiV2.py   \n",
    "from random import random\n",
    "from time import perf_counter\n",
    "DARTS = 1000 * 1000   #在当前区域中抛散点的总数量\n",
    "hits = 0.0   #目前在圆的内部的点的数量\n",
    "start = perf_counter()    #当前系统的时间\n",
    "for i in range (1, DARTS+1):\n",
    "    x,y = random(),random()   #获得单位1中的坐标值，为0到1之间的随机值\n",
    "    dist = pow(x ** 2 + y ** 2, 0.5)   #取点到圆心的距离来判断是否在圆内，x的平方+y的平方的和再开方 \n",
    "    if dist <= 1.0:      #判断是否在圆内\n",
    "        hits = hits + 1\n",
    "pi = 4 * (hits/DARTS)\n",
    "print(\"圆周率是：{}\".format(pi))\n",
    "print(\"运行时间是：{:.5f}s\".format(perf_counter() - start))"
   ]
  }
 ],
 "metadata": {
  "kernelspec": {
   "display_name": "Python 3",
   "language": "python",
   "name": "python3"
  },
  "language_info": {
   "codemirror_mode": {
    "name": "ipython",
    "version": 3
   },
   "file_extension": ".py",
   "mimetype": "text/x-python",
   "name": "python",
   "nbconvert_exporter": "python",
   "pygments_lexer": "ipython3",
   "version": "3.7.3"
  }
 },
 "nbformat": 4,
 "nbformat_minor": 2
}
