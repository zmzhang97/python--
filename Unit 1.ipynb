{
 "cells": [
  {
   "cell_type": "markdown",
   "metadata": {},
   "source": [
    "# Python学习"
   ]
  },
  {
   "cell_type": "markdown",
   "metadata": {},
   "source": [
    "## 一、Python基本语法元素"
   ]
  },
  {
   "cell_type": "markdown",
   "metadata": {},
   "source": [
    "### 1、程序设计基本方法"
   ]
  },
  {
   "cell_type": "markdown",
   "metadata": {},
   "source": [
    "1、计算机的概念：功能性、可编程性；\n",
    "   计算机发展：遵循摩尔定律（集成电路晶体管数量2倍翻）;\n",
    "   \n",
    "2、编程语言的执行方式\n",
    "* 源代码：计算机程序，人类可读；\n",
    "* 目标代码：计算机可直接执行，人类不可读。\n",
    "* 解释：将源代码逐步转换成目标代码同时逐条执行；\n",
    "* 分类：执行方式不同可分为：\n",
    "* 静态语言：使用编译执行的编程语言（C/C++、Java语言），编译器一次性生成目标代码，优化更充分，程序运行更快；\n",
    "* 脚本语言：使用解释执行（Python、Javascript、PHP），执行程序时需要源代码，维护更灵活，可跨多个操作系统平台。\n",
    "\n",
    "3、程序的基本编写方法IPO\n",
    "* 输入-处理-输出；\n",
    "* 编程解决问题步骤：分析问题-划分边界-设计算法-编写程序-调试测试-升级维护\n",
    "                         确定IPO-编写程序-检查程序"
   ]
  },
  {
   "cell_type": "markdown",
   "metadata": {},
   "source": [
    "### 2、Python开发环境配置"
   ]
  },
  {
   "cell_type": "markdown",
   "metadata": {},
   "source": [
    "Python的两种编程方式：\n",
    "* 交互式：对每个输入语句即时运行结果；\n",
    "* 文件式：批量执行一组语句并运行结果。"
   ]
  },
  {
   "cell_type": "markdown",
   "metadata": {},
   "source": [
    "圆的面积："
   ]
  },
  {
   "cell_type": "code",
   "execution_count": 1,
   "metadata": {},
   "outputs": [
    {
     "name": "stdout",
     "output_type": "stream",
     "text": [
      "1963.4375000000002\n"
     ]
    }
   ],
   "source": [
    "r = 25\n",
    "area = 3.1415 * r * r\n",
    "print(area)"
   ]
  },
  {
   "cell_type": "code",
   "execution_count": 2,
   "metadata": {},
   "outputs": [
    {
     "name": "stdout",
     "output_type": "stream",
     "text": [
      "1963.44\n"
     ]
    }
   ],
   "source": [
    "print(\"{:.2f}\".format(area))"
   ]
  },
  {
   "cell_type": "markdown",
   "metadata": {},
   "source": [
    "绘制多个同切圆："
   ]
  },
  {
   "cell_type": "code",
   "execution_count": 1,
   "metadata": {},
   "outputs": [],
   "source": [
    "import turtle\n",
    "turtle.pensize(2)\n",
    "turtle.circle(10)\n",
    "turtle.circle(40)\n",
    "turtle.circle(80)\n",
    "turtle.circle(160)"
   ]
  },
  {
   "cell_type": "markdown",
   "metadata": {},
   "source": [
    "绘制五角星："
   ]
  },
  {
   "cell_type": "code",
   "execution_count": 1,
   "metadata": {},
   "outputs": [],
   "source": [
    "from turtle import *\n",
    "color('red','red')\n",
    "begin_fill()\n",
    "for i in range(5):\n",
    "    fd(200)\n",
    "    rt(144)\n",
    "    end_fill()\n"
   ]
  },
  {
   "cell_type": "markdown",
   "metadata": {},
   "source": [
    "### 实例1：温度转换"
   ]
  },
  {
   "cell_type": "markdown",
   "metadata": {},
   "source": [
    "摄氏度与华氏度之间的转换：\n",
    "* 直接温度值转换；\n",
    "* 温度信息发布的声音或图像形式进行理解和转换；\n",
    "* 监控信息发布渠道，实时转换温度值。\n",
    "\n",
    "1、分析问题：温度值进行转换，温度数值要标明温度体系；\n",
    "2、划分边界：(IPO)输入温度值-转换-输出温度值；\n",
    "3、设计算法：利用转换公式，C=（F-32）/1.8，F=C*1.8+32；\n",
    "4、编写程序："
   ]
  },
  {
   "cell_type": "code",
   "execution_count": 5,
   "metadata": {},
   "outputs": [
    {
     "name": "stdout",
     "output_type": "stream",
     "text": [
      "请输入带有符号的温度值37c\n",
      "转换后的温度是98.60F\n"
     ]
    }
   ],
   "source": [
    "#TempConvert.py\n",
    "TempStr = input(\"请输入带有符号的温度值\")\n",
    "if TempStr[-1] in ['F','f']:\n",
    "    C = (eval(TempStr[0:-1]) - 32)/1.8\n",
    "    print(\"转换后的温度是{:.2f}C\".format(C))\n",
    "elif TempStr[-1] in ['C','c']:\n",
    "    F = 1.8*eval(TempStr[0:-1]) + 32\n",
    "    print(\"转换后的温度是{:.2f}F\".format(F))\n",
    "else:\n",
    "    print(\"输入格式错误\")"
   ]
  },
  {
   "cell_type": "markdown",
   "metadata": {},
   "source": [
    "### 1.4Python程序语法元素分析"
   ]
  },
  {
   "cell_type": "markdown",
   "metadata": {},
   "source": [
    "> 程序的格式框架、命名与保留字、数据类型、语句与函数、Python程序的输入输出\n",
    "\n",
    "1、代码高亮：编程的色彩辅助体系；  \n",
    "      缩进：一行代码开始前的空白区域，表达程序的格式框架；严格明确，所属关系、长度一致；  \n",
    "      注释：不被运行，起解释代码作用；单行注释（#开头），多行注释（'''注释'''）。   \n",
    "      \n",
    "2、命名与保留字：\n",
    "<br>   变量:程序中用于保存和表示数据的占位符号；\n",
    "<br>   命名规则：大小写字母、数字、下划线和汉字等字符及组合；（注意：大小写敏感、首字符不能是数字、不与保留字一样）   \n",
    "\n",
    "3、数据类型：  \n",
    "* 整数和浮点数；整数：数学中的整数：10011101、-89； 浮点数：数学中的实数带有小数：1.8、-1.0； \n",
    "\n",
    "* 字符串：\"10,011,101\"；由0个或多个字符组成的有序字符序列；单引号或者双引号；是一种有序序列（正向递增0.1.2.3...和反向递减-1.-2.-3...），可进行索引；  \n",
    "使用[ ]获取字符串中一个或多个字符：索引：返回字符串中单个字符 <字符串>[M]  ；例如：（取出第0个字符）\"请输入带有符号的温度值：\"[0]  或者 （取出倒数第一个字符） TempStr[-1];  \n",
    "切片：返回字符串中一段字符子串 <字符串>[M:N]；例如：（取出第1、2个字符）\"请输入带有符号的温度值：\"[1:3]  或者 （取出从0开始但不到最后一个字符串的字符） TempStr[0:-1]；\n",
    "\n",
    "* 列表：由0个或多个数据组成的有序序列；列表使用[ ]表示，采用逗号分隔个元素：[10,011,101]、['F','f']；  \n",
    "    使用保留字in判断一个元素是否在列表中：TempStr[-1] in ['C','c']     \n",
    "    \n",
    "4、语句与函数：  \n",
    "* 赋值语句：由赋值符号构成的一行代码；用来给变量赋予新数据值、其右侧的数据类型同时作用于变量；   \n",
    "* 分支语句：判断条件；if、elif、else\n",
    "* 函数：根据输入参数产生不同输出的功能过程；函数采用<函数名>(<参数>)方式使用，例如：eval(TempStr[0:-1])；   \n",
    "\n",
    "5、输入输出：  \n",
    "* input( )：从控制台获得输入；<变量> = input(<提示信息字符串>)；用户输入的信息以字符串类型保存在<变量>中；  \n",
    "* print( )：输出结果；字符串类型的一对引号仅在程序内部使用，输出无引号；print()函数的格式化：print(\"转换的温度是{:.2f}C\".format(C)):{ }表示槽，后续变量填充到槽中；{:.2f}表示将变量C填充到这个位置时取小数点后2位；\n",
    "* 评估函数：eval( )：去掉参数最外侧引号并执行余下语句的函数；\n"
   ]
  },
  {
   "cell_type": "code",
   "execution_count": 2,
   "metadata": {},
   "outputs": [
    {
     "data": {
      "text/plain": [
       "1"
      ]
     },
     "execution_count": 2,
     "metadata": {},
     "output_type": "execute_result"
    }
   ],
   "source": [
    "eval(\"1\")"
   ]
  },
  {
   "cell_type": "code",
   "execution_count": 3,
   "metadata": {},
   "outputs": [
    {
     "data": {
      "text/plain": [
       "'1+2'"
      ]
     },
     "execution_count": 3,
     "metadata": {},
     "output_type": "execute_result"
    }
   ],
   "source": [
    "eval(\"'1+2'\")"
   ]
  },
  {
   "cell_type": "code",
   "execution_count": 4,
   "metadata": {},
   "outputs": [
    {
     "data": {
      "text/plain": [
       "'1+2'"
      ]
     },
     "execution_count": 4,
     "metadata": {},
     "output_type": "execute_result"
    }
   ],
   "source": [
    "eval('\"1+2\"')"
   ]
  },
  {
   "cell_type": "code",
   "execution_count": 5,
   "metadata": {},
   "outputs": [
    {
     "data": {
      "text/plain": [
       "3"
      ]
     },
     "execution_count": 5,
     "metadata": {},
     "output_type": "execute_result"
    }
   ],
   "source": [
    "eval(\"1+2\")"
   ]
  },
  {
   "cell_type": "code",
   "execution_count": 6,
   "metadata": {},
   "outputs": [
    {
     "name": "stdout",
     "output_type": "stream",
     "text": [
      "Hello\n"
     ]
    }
   ],
   "source": [
    "eval('print(\"Hello\")')"
   ]
  },
  {
   "cell_type": "code",
   "execution_count": null,
   "metadata": {},
   "outputs": [],
   "source": []
  }
 ],
 "metadata": {
  "kernelspec": {
   "display_name": "Python 3",
   "language": "python",
   "name": "python3"
  },
  "language_info": {
   "codemirror_mode": {
    "name": "ipython",
    "version": 3
   },
   "file_extension": ".py",
   "mimetype": "text/x-python",
   "name": "python",
   "nbconvert_exporter": "python",
   "pygments_lexer": "ipython3",
   "version": "3.7.3"
  }
 },
 "nbformat": 4,
 "nbformat_minor": 2
}
